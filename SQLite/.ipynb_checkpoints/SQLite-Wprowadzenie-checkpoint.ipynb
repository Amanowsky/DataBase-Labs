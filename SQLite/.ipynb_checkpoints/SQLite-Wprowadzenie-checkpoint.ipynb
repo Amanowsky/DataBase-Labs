{
 "cells": [
  {
   "cell_type": "code",
   "execution_count": 176,
   "id": "0303e715-22bb-4848-a280-ff16e346d777",
   "metadata": {
    "tags": []
   },
   "outputs": [],
   "source": [
    "import sqlite3\n",
    "from sqlite3 import Error"
   ]
  },
  {
   "cell_type": "code",
   "execution_count": 177,
   "id": "1445837e-e005-4f95-9d4e-c3408bc7e71c",
   "metadata": {
    "tags": []
   },
   "outputs": [],
   "source": [
    "def create_connection(db_file):\n",
    "    conn = None\n",
    "    try: \n",
    "        conn = sqlite3.connect(db_file)\n",
    "    except Error as e:\n",
    "        print(e)\n",
    "    return conn"
   ]
  },
  {
   "cell_type": "code",
   "execution_count": 178,
   "id": "8f80e5df-fd51-4f09-83b4-c000265c6e22",
   "metadata": {
    "tags": []
   },
   "outputs": [],
   "source": [
    "def create_table(conn, create_table_sql):\n",
    "    try:\n",
    "        c = conn.cursor()\n",
    "        c.execute(create_table_sql)\n",
    "    except Error as e:\n",
    "        print(e)"
   ]
  },
  {
   "cell_type": "code",
   "execution_count": 179,
   "id": "18bc6c8b-7039-43f6-bbaf-13120c3b6192",
   "metadata": {
    "tags": []
   },
   "outputs": [],
   "source": [
    "def create_insert(conn, insert):\n",
    "    sql = ''' INSERT INTO czytelnicy(imie,nazwisko,zapisany,wypozyczenia)\n",
    "            VALUES(?,?,?,?) '''\n",
    "    cur = conn.cursor()\n",
    "    cur.execute(sql, insert)\n",
    "    conn.commit()"
   ]
  },
  {
   "cell_type": "code",
   "execution_count": 180,
   "id": "ace60316-3067-44ed-bcc1-738d8012882e",
   "metadata": {
    "tags": []
   },
   "outputs": [],
   "source": [
    "def select_instruction(conn, insert):\n",
    "    cur = conn.cursor()\n",
    "    text = insert\n",
    "    cur.execute(text)\n",
    "    rows = cur.fetchall()\n",
    "    \n",
    "    for row in rows:\n",
    "        print(row)\n",
    "    return rows"
   ]
  },
  {
   "cell_type": "code",
   "execution_count": 187,
   "id": "272f1a60-53d5-40d8-be4b-f8f9fa9221d3",
   "metadata": {
    "tags": []
   },
   "outputs": [],
   "source": [
    "def main():\n",
    "    database = \"bazasqlite.db\"\n",
    "    \n",
    "    sql_create_czytelnicy_table = \"\"\" CREATE TABLE IF NOT EXISTS czytelnicy (\n",
    "                                        imie text NOT NULL,\n",
    "                                        nazwisko text NOT NULL,\n",
    "                                        zapisany date,\n",
    "                                        wypozyczenia integer\n",
    "                                    );\"\"\"\n",
    "    data = ('Adam','Kowalski','2018-10-13',3);\n",
    "    datas = [('Ewa','Grabska','2017-09-14',5),\n",
    "             ('Edward','Nowak','2019-03-11',7),\n",
    "             ('Iwona','Krakowska','2016-12-17',2),\n",
    "             ('Roman','Zdalny','2018-04-24',5),]\n",
    "    \n",
    "    conn = create_connection(database)\n",
    "    \n",
    "    if conn is not None:\n",
    "        create_table(conn, sql_create_czytelnicy_table)\n",
    "        for x in datas:\n",
    "            create_insert(conn, x)\n",
    "    else:\n",
    "        print(\"Error! Cannot connect to database\")\n",
    "    select_instruction(conn,' SELECT imie,nazwisko,wypozyczenia FROM czytelnicy WHERE wypozyczenia > 3 ORDER BY wypozyczenia ASC ')\n",
    "    print(\"\\n\")\n",
    "    select_instruction(conn,' SELECT imie,nazwisko,wypozyczenia FROM czytelnicy WHERE wypozyczenia > 3 ORDER BY wypozyczenia DESC ')\n",
    "    print(\"\\n\")\n",
    "    result = select_instruction(conn,' SELECT * FROM czytelnicy ' )\n",
    "    print(\"\\n\")\n",
    "    print(result)\n",
    "    conn.close()"
   ]
  },
  {
   "cell_type": "code",
   "execution_count": 188,
   "id": "079b1c77-484f-47fb-9253-9cef84ce5371",
   "metadata": {
    "tags": []
   },
   "outputs": [
    {
     "name": "stdout",
     "output_type": "stream",
     "text": [
      "('Ewa', 'Grabska', 5)\n",
      "('Roman', 'Zdalny', 5)\n",
      "('Edward', 'Nowak', 7)\n",
      "\n",
      "\n",
      "('Edward', 'Nowak', 7)\n",
      "('Ewa', 'Grabska', 5)\n",
      "('Roman', 'Zdalny', 5)\n",
      "\n",
      "\n",
      "('Ewa', 'Grabska', '2017-09-14', 5)\n",
      "('Edward', 'Nowak', '2019-03-11', 7)\n",
      "('Iwona', 'Krakowska', '2016-12-17', 2)\n",
      "('Roman', 'Zdalny', '2018-04-24', 5)\n",
      "\n",
      "\n",
      "[('Ewa', 'Grabska', '2017-09-14', 5), ('Edward', 'Nowak', '2019-03-11', 7), ('Iwona', 'Krakowska', '2016-12-17', 2), ('Roman', 'Zdalny', '2018-04-24', 5)]\n"
     ]
    }
   ],
   "source": [
    "if __name__ == '__main__':\n",
    "    main()"
   ]
  },
  {
   "cell_type": "code",
   "execution_count": null,
   "id": "49b3a212-64a9-4cfd-8bf7-f82bbf455ad0",
   "metadata": {},
   "outputs": [],
   "source": []
  },
  {
   "cell_type": "code",
   "execution_count": null,
   "id": "45279b4b-1229-4677-a40e-0814468a2c1c",
   "metadata": {},
   "outputs": [],
   "source": []
  }
 ],
 "metadata": {
  "kernelspec": {
   "display_name": "WDAD1",
   "language": "python",
   "name": "wdad1"
  },
  "language_info": {
   "codemirror_mode": {
    "name": "ipython",
    "version": 3
   },
   "file_extension": ".py",
   "mimetype": "text/x-python",
   "name": "python",
   "nbconvert_exporter": "python",
   "pygments_lexer": "ipython3",
   "version": "3.11.2"
  }
 },
 "nbformat": 4,
 "nbformat_minor": 5
}
